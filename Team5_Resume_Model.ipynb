{
 "cells": [
  {
   "cell_type": "code",
   "execution_count": 1,
   "metadata": {
    "colab": {
     "base_uri": "https://localhost:8080/"
    },
    "id": "XlY5-yVfcc5D",
    "outputId": "d4aa645e-40c3-4501-cede-1cbe42bcb0e5"
   },
   "outputs": [
    {
     "name": "stdout",
     "output_type": "stream",
     "text": [
      "Collecting faker\n",
      "  Downloading faker-37.1.0-py3-none-any.whl.metadata (15 kB)\n",
      "Requirement already satisfied: tzdata in c:\\users\\sam\\anaconda3\\lib\\site-packages (from faker) (2023.3)\n",
      "Downloading faker-37.1.0-py3-none-any.whl (1.9 MB)\n",
      "   ---------------------------------------- 0.0/1.9 MB ? eta -:--:--\n",
      "   ---------------------------------------- 0.0/1.9 MB ? eta -:--:--\n",
      "   ----- ---------------------------------- 0.3/1.9 MB ? eta -:--:--\n",
      "   ---------- ----------------------------- 0.5/1.9 MB 985.5 kB/s eta 0:00:02\n",
      "   ---------- ----------------------------- 0.5/1.9 MB 985.5 kB/s eta 0:00:02\n",
      "   ---------------- ----------------------- 0.8/1.9 MB 762.0 kB/s eta 0:00:02\n",
      "   --------------------- ------------------ 1.0/1.9 MB 868.0 kB/s eta 0:00:02\n",
      "   --------------------------- ------------ 1.3/1.9 MB 919.0 kB/s eta 0:00:01\n",
      "   -------------------------------- ------- 1.6/1.9 MB 975.2 kB/s eta 0:00:01\n",
      "   -------------------------------------- - 1.8/1.9 MB 1.0 MB/s eta 0:00:01\n",
      "   ---------------------------------------- 1.9/1.9 MB 1.0 MB/s eta 0:00:00\n",
      "Installing collected packages: faker\n",
      "Successfully installed faker-37.1.0\n"
     ]
    },
    {
     "name": "stderr",
     "output_type": "stream",
     "text": [
      "WARNING: Retrying (Retry(total=4, connect=None, read=None, redirect=None, status=None)) after connection broken by 'NewConnectionError('<pip._vendor.urllib3.connection.HTTPSConnection object at 0x000001B96ECB6AB0>: Failed to establish a new connection: [Errno 11001] getaddrinfo failed')': /simple/faker/\n",
      "WARNING: Retrying (Retry(total=3, connect=None, read=None, redirect=None, status=None)) after connection broken by 'NewConnectionError('<pip._vendor.urllib3.connection.HTTPSConnection object at 0x000001B96FD80EF0>: Failed to establish a new connection: [Errno 11001] getaddrinfo failed')': /simple/faker/\n",
      "WARNING: Retrying (Retry(total=2, connect=None, read=None, redirect=None, status=None)) after connection broken by 'NewConnectionError('<pip._vendor.urllib3.connection.HTTPSConnection object at 0x000001B96FF70A70>: Failed to establish a new connection: [Errno 11001] getaddrinfo failed')': /simple/faker/\n",
      "WARNING: Retrying (Retry(total=1, connect=None, read=None, redirect=None, status=None)) after connection broken by 'NewConnectionError('<pip._vendor.urllib3.connection.HTTPSConnection object at 0x000001B96FF7DA90>: Failed to establish a new connection: [Errno 11001] getaddrinfo failed')': /simple/faker/\n"
     ]
    }
   ],
   "source": [
    "# installing faker\n",
    "!pip install faker"
   ]
  },
  {
   "cell_type": "code",
   "execution_count": 5,
   "metadata": {
    "id": "mcd9MgOQdBIE"
   },
   "outputs": [],
   "source": [
    "# importing packages\n",
    "import os\n",
    "os.environ['TF_CPP_MIN_LOG_LEVEL'] = '3'\n",
    "\n",
    "import random\n",
    "import numpy as np\n",
    "import tensorflow as tf\n",
    "\n",
    "random.seed(1693)\n",
    "np.random.seed(1693)\n",
    "tf.random.set_seed(1693)\n",
    "\n",
    "from tensorflow import keras\n",
    "from keras.models import Sequential\n",
    "from keras.layers import Dense\n",
    "#from keras.utils import to_categorical\n",
    "\n",
    "import pandas as pd\n",
    "import sklearn as sk\n",
    "from sklearn.model_selection import train_test_split"
   ]
  },
  {
   "cell_type": "code",
   "execution_count": 7,
   "metadata": {
    "colab": {
     "base_uri": "https://localhost:8080/"
    },
    "id": "PS80fKKybeLA",
    "outputId": "207b5839-dee6-4d09-c042-aa0eaf97b18c"
   },
   "outputs": [
    {
     "name": "stdout",
     "output_type": "stream",
     "text": [
      "✅ 500 fake resumes saved to 'fake_resumes.csv'\n"
     ]
    }
   ],
   "source": [
    "import random\n",
    "import csv\n",
    "from faker import Faker\n",
    "\n",
    "fake = Faker()\n",
    "\n",
    "# tech_majors list\n",
    "TECH_MAJORS = [\n",
    "    \"Computer Science\", \"Data Science\", \"Business Analytics\", \"Mathematics\",\n",
    "    \"Statistics\", \"Information Systems\", \"Electrical Engineering\", \"Engineering\"\n",
    "]\n",
    "\n",
    "# non_tech_majors list\n",
    "NON_TECH_MAJORS = [\n",
    "    \"Art History\", \"Theater\", \"Dance\", \"Philosophy\", \"Religious Studies\",\n",
    "    \"English Literature\", \"Fine Arts\", \"Music\", \"Culinary Arts\", \"Fashion Design\", \"Sports Recreation Management\"\n",
    "]\n",
    "\n",
    "# degrees list\n",
    "DEGREES = [\n",
    "    \"Bachelor of Science\", \"Bachelor of Arts\", \"Bachelor of Fine Arts\",\n",
    "    \"Bachelor of Engineering\", \"Bachelor of Business Administration\"\n",
    "]\n",
    "\n",
    "# good universities list\n",
    "UNIVERSITIES_GOOD = [\n",
    "    \"UC Berkeley\", \"Carnegie Mellon University\", \"University of Michigan\",\n",
    "    \"Georgia Tech\", \"Columbia University\", \"NYU\", \"Stanford University\", \"The College of William and Mary\", \"The University of Virginia\", \"James Madison University\",\n",
    "    \"Virginia Tech\", \"Longwood\", \"Virginia Commonwealth University\", \"Hampton Sydney\", \"Old Dominion University\"\n",
    "]\n",
    "\n",
    "# weak universities list\n",
    "UNIVERSITIES_WEAK = [\n",
    "    \"Fake University1\", \"Fake University2\",\n",
    "    \"Fake University3\", \"Fake University4\", \"Fake University5\", \"Fake University6\", \"Fake University7\", \"Fake University8\", \"Fake University9\", \"Fake University10\",\n",
    "    \"Fake University11\", \"Fake University12\", \"Fake University13\", \"Fake University14\", \"Fake University15\"\n",
    "]\n",
    "\n",
    "# strong expereience\n",
    "STRONG_EXPERIENCE = [\n",
    "    \"Data Analyst Intern\", \"Software Developer\", \"Research Assistant\",\n",
    "    \"Business Analyst\", \"Machine Learning Intern\"\n",
    "]\n",
    "\n",
    "# weak expereience\n",
    "WEAK_EXPERIENCE = [\n",
    "    \"Barista\", \"Retail Associate\", \"Fitness Trainer\", \"Dog Walker\",\n",
    "    \"Receptionist\", \"Cashier\", \"Camp Counselor\", \"Pizza Delivery Driver\"\n",
    "]\n",
    "\n",
    "# strong skills\n",
    "STRONG_SKILLS = [\n",
    "    \"Python\", \"SQL\", \"Pandas\", \"Tableau\", \"Machine Learning\", \"Data Cleaning\", \"TensorFlow\", \"Scikit-learn\"\n",
    "]\n",
    "\n",
    "# weak skills\n",
    "WEAK_SKILLS = [\n",
    "    \"Public Speaking\", \"Teamwork\", \"Time Management\", \"Creativity\", \"Social Media\", \"Blogging\", \"Drawing\"\n",
    "]\n",
    "\n",
    "# certifications\n",
    "CERTIFICATIONS = [\n",
    "    \"Google Data Analytics\", \"AWS Cloud Practitioner\", \"None\", \"None\", \"None\"\n",
    "]\n",
    "\n",
    "# extracurriculars\n",
    "EXTRACURRICULARS = [\n",
    "    \"Hackathon Participant\", \"Research Club\", \"Volunteered at Animal Shelter\",\n",
    "    \"None\", \"None\"\n",
    "]\n",
    "\n",
    "\n",
    "# building the dataframe\n",
    "def generate_resume_row():\n",
    "    underqualified = random.random() < 0.75\n",
    "\n",
    "    # Randomly override values to create mismatches\n",
    "    mix_signal = random.random() < 0.4  # 40% of resumes have conflicting signals\n",
    "\n",
    "    # randomly sampling from majors lists to get major\n",
    "    major = random.choice(TECH_MAJORS if not underqualified else NON_TECH_MAJORS)\n",
    "    # randomly sampling from universities lists to get university\n",
    "    university = random.choice(UNIVERSITIES_GOOD if not underqualified else UNIVERSITIES_WEAK)\n",
    "    # using random.uniform to get random gpas\n",
    "    gpa = round(random.uniform(3.5, 4.0), 2) if not underqualified else round(random.uniform(2.2, 3.2), 2)\n",
    "    # randombly sampling from expereinces lists to get job_title\n",
    "    job_title = random.choice(STRONG_EXPERIENCE if not underqualified else WEAK_EXPERIENCE)\n",
    "    #randomly sampling from the skills lists to get skills\n",
    "    skills = random.sample(STRONG_SKILLS if not underqualified else WEAK_SKILLS, k=random.randint(3, 6))\n",
    "\n",
    "    # creating noise in the dataframe variables so that underqualfied vs qualfied candidates have a mix of both attributes\n",
    "    if mix_signal:\n",
    "        # Randomly flip one or two attributes to make it noisy\n",
    "        flip_attr = random.sample([\"major\", \"university\", \"gpa\", \"job\", \"skills\"], k=random.randint(1, 2))\n",
    "        for attr in flip_attr:\n",
    "            if attr == \"major\":\n",
    "                major = random.choice(NON_TECH_MAJORS if not underqualified else TECH_MAJORS)\n",
    "            elif attr == \"university\":\n",
    "                university = random.choice(UNIVERSITIES_WEAK if not underqualified else UNIVERSITIES_GOOD)\n",
    "            elif attr == \"gpa\":\n",
    "                gpa = round(random.uniform(2.2, 3.2), 2) if not underqualified else round(random.uniform(3.5, 4.0), 2)\n",
    "            elif attr == \"job\":\n",
    "                job_title = random.choice(WEAK_EXPERIENCE if not underqualified else STRONG_EXPERIENCE)\n",
    "            elif attr == \"skills\":\n",
    "                skills = random.sample(WEAK_SKILLS if not underqualified else STRONG_SKILLS, k=random.randint(3, 6))\n",
    "    # the return statement returns these variables\n",
    "    return {\n",
    "        \"full_name\": fake.name(),\n",
    "        \"email\": fake.email(),\n",
    "        \"phone\": fake.phone_number(),\n",
    "        \"location\": f\"{fake.city()}, {fake.state_abbr()}\",\n",
    "        \"degree\": random.choice(DEGREES),\n",
    "        \"major\": major,\n",
    "        \"university\": university,\n",
    "        \"gpa\": gpa,\n",
    "        \"graduation_year\": random.randint(2021, 2025),\n",
    "        \"job_title\": job_title,\n",
    "        \"company\": fake.company(),\n",
    "        \"start_date\": f\"{random.randint(2020, 2023)}-{random.randint(1,12):02d}\",\n",
    "        \"end_date\": f\"{random.randint(2023, 2025)}-{random.randint(1,12):02d}\",\n",
    "        \"skills\": \", \".join(skills),\n",
    "        \"certifications\": \", \".join(random.sample(CERTIFICATIONS, k=random.randint(0, 2))),\n",
    "        \"extracurriculars\": \", \".join(random.sample(EXTRACURRICULARS, k=random.randint(1, 3))),\n",
    "        \"qualified\": \"No\" if underqualified else \"Yes\"\n",
    "    }\n",
    "\n",
    "# defining the generate_resume_csv function that creates fake_resumes.csv\n",
    "def generate_resume_csv(filename=\"fake_resumes.csv\", num=500):\n",
    "    data = [generate_resume_row() for _ in range(num)]\n",
    "    with open(filename, \"w\", newline=\"\", encoding=\"utf-8\") as f:\n",
    "        writer = csv.DictWriter(f, fieldnames=data[0].keys())\n",
    "        writer.writeheader()\n",
    "        writer.writerows(data)\n",
    "    print(f\"✅ {num} fake resumes saved to '{filename}'\")\n",
    "\n",
    "# using the function defined above to create a sample 500 fake resumes\n",
    "if __name__ == \"__main__\":\n",
    "    generate_resume_csv(\"fake_resumes.csv\", num=500)\n"
   ]
  },
  {
   "cell_type": "code",
   "execution_count": 9,
   "metadata": {
    "colab": {
     "base_uri": "https://localhost:8080/",
     "height": 556
    },
    "id": "Nj6MKS92c9-e",
    "outputId": "bddcfca2-13bf-40ba-f5a1-c4e8bf45cab3"
   },
   "outputs": [
    {
     "data": {
      "text/html": [
       "<div>\n",
       "<style scoped>\n",
       "    .dataframe tbody tr th:only-of-type {\n",
       "        vertical-align: middle;\n",
       "    }\n",
       "\n",
       "    .dataframe tbody tr th {\n",
       "        vertical-align: top;\n",
       "    }\n",
       "\n",
       "    .dataframe thead th {\n",
       "        text-align: right;\n",
       "    }\n",
       "</style>\n",
       "<table border=\"1\" class=\"dataframe\">\n",
       "  <thead>\n",
       "    <tr style=\"text-align: right;\">\n",
       "      <th></th>\n",
       "      <th>full_name</th>\n",
       "      <th>email</th>\n",
       "      <th>phone</th>\n",
       "      <th>location</th>\n",
       "      <th>degree</th>\n",
       "      <th>major</th>\n",
       "      <th>university</th>\n",
       "      <th>gpa</th>\n",
       "      <th>graduation_year</th>\n",
       "      <th>job_title</th>\n",
       "      <th>company</th>\n",
       "      <th>start_date</th>\n",
       "      <th>end_date</th>\n",
       "      <th>skills</th>\n",
       "      <th>certifications</th>\n",
       "      <th>extracurriculars</th>\n",
       "      <th>qualified</th>\n",
       "    </tr>\n",
       "  </thead>\n",
       "  <tbody>\n",
       "    <tr>\n",
       "      <th>0</th>\n",
       "      <td>Marc Skinner</td>\n",
       "      <td>adam53@example.org</td>\n",
       "      <td>001-555-649-5086x3518</td>\n",
       "      <td>Lake Lindabury, OR</td>\n",
       "      <td>Bachelor of Business Administration</td>\n",
       "      <td>Mathematics</td>\n",
       "      <td>Fake University12</td>\n",
       "      <td>3.98</td>\n",
       "      <td>2025</td>\n",
       "      <td>Camp Counselor</td>\n",
       "      <td>Nelson Ltd</td>\n",
       "      <td>2020-05</td>\n",
       "      <td>2024-11</td>\n",
       "      <td>Scikit-learn, Pandas, Machine Learning, SQL, D...</td>\n",
       "      <td>None, None</td>\n",
       "      <td>Hackathon Participant, None</td>\n",
       "      <td>Yes</td>\n",
       "    </tr>\n",
       "    <tr>\n",
       "      <th>1</th>\n",
       "      <td>James Taylor</td>\n",
       "      <td>kaylee16@example.org</td>\n",
       "      <td>+1-803-584-1534x0942</td>\n",
       "      <td>Chanport, NJ</td>\n",
       "      <td>Bachelor of Science</td>\n",
       "      <td>Information Systems</td>\n",
       "      <td>Old Dominion University</td>\n",
       "      <td>3.74</td>\n",
       "      <td>2021</td>\n",
       "      <td>Software Developer</td>\n",
       "      <td>Phillips PLC</td>\n",
       "      <td>2022-05</td>\n",
       "      <td>2023-01</td>\n",
       "      <td>SQL, Scikit-learn, TensorFlow, Data Cleaning, ...</td>\n",
       "      <td>Google Data Analytics, None</td>\n",
       "      <td>Hackathon Participant, Research Club, None</td>\n",
       "      <td>Yes</td>\n",
       "    </tr>\n",
       "    <tr>\n",
       "      <th>2</th>\n",
       "      <td>Eric Johnson</td>\n",
       "      <td>gaylinda@example.net</td>\n",
       "      <td>001-611-577-2318x6881</td>\n",
       "      <td>East Susanfurt, ND</td>\n",
       "      <td>Bachelor of Engineering</td>\n",
       "      <td>Music</td>\n",
       "      <td>Stanford University</td>\n",
       "      <td>3.88</td>\n",
       "      <td>2023</td>\n",
       "      <td>Research Assistant</td>\n",
       "      <td>Banks, Thompson and James</td>\n",
       "      <td>2022-11</td>\n",
       "      <td>2023-05</td>\n",
       "      <td>Pandas, Python, Scikit-learn, Tableau</td>\n",
       "      <td>NaN</td>\n",
       "      <td>NaN</td>\n",
       "      <td>Yes</td>\n",
       "    </tr>\n",
       "    <tr>\n",
       "      <th>3</th>\n",
       "      <td>Jessica Luna</td>\n",
       "      <td>elewis@example.org</td>\n",
       "      <td>436-646-0618</td>\n",
       "      <td>South Taylorbury, DC</td>\n",
       "      <td>Bachelor of Arts</td>\n",
       "      <td>Statistics</td>\n",
       "      <td>Fake University1</td>\n",
       "      <td>3.84</td>\n",
       "      <td>2022</td>\n",
       "      <td>Camp Counselor</td>\n",
       "      <td>Walls Inc</td>\n",
       "      <td>2022-09</td>\n",
       "      <td>2024-10</td>\n",
       "      <td>Drawing, Teamwork, Time Management, Blogging, ...</td>\n",
       "      <td>NaN</td>\n",
       "      <td>NaN</td>\n",
       "      <td>No</td>\n",
       "    </tr>\n",
       "    <tr>\n",
       "      <th>4</th>\n",
       "      <td>Dr. Karen Roman</td>\n",
       "      <td>mathisrobert@example.org</td>\n",
       "      <td>416.264.1327</td>\n",
       "      <td>North Hayden, FM</td>\n",
       "      <td>Bachelor of Business Administration</td>\n",
       "      <td>Sports Recreation Management</td>\n",
       "      <td>Fake University12</td>\n",
       "      <td>2.22</td>\n",
       "      <td>2023</td>\n",
       "      <td>Camp Counselor</td>\n",
       "      <td>Duarte Group</td>\n",
       "      <td>2020-08</td>\n",
       "      <td>2025-07</td>\n",
       "      <td>Social Media, Blogging, Time Management, Publi...</td>\n",
       "      <td>AWS Cloud Practitioner, None</td>\n",
       "      <td>NaN</td>\n",
       "      <td>No</td>\n",
       "    </tr>\n",
       "  </tbody>\n",
       "</table>\n",
       "</div>"
      ],
      "text/plain": [
       "         full_name                     email                  phone  \\\n",
       "0     Marc Skinner        adam53@example.org  001-555-649-5086x3518   \n",
       "1     James Taylor      kaylee16@example.org   +1-803-584-1534x0942   \n",
       "2     Eric Johnson      gaylinda@example.net  001-611-577-2318x6881   \n",
       "3     Jessica Luna        elewis@example.org           436-646-0618   \n",
       "4  Dr. Karen Roman  mathisrobert@example.org           416.264.1327   \n",
       "\n",
       "               location                               degree  \\\n",
       "0    Lake Lindabury, OR  Bachelor of Business Administration   \n",
       "1          Chanport, NJ                  Bachelor of Science   \n",
       "2    East Susanfurt, ND              Bachelor of Engineering   \n",
       "3  South Taylorbury, DC                     Bachelor of Arts   \n",
       "4      North Hayden, FM  Bachelor of Business Administration   \n",
       "\n",
       "                          major               university   gpa  \\\n",
       "0                   Mathematics        Fake University12  3.98   \n",
       "1           Information Systems  Old Dominion University  3.74   \n",
       "2                         Music      Stanford University  3.88   \n",
       "3                    Statistics         Fake University1  3.84   \n",
       "4  Sports Recreation Management        Fake University12  2.22   \n",
       "\n",
       "   graduation_year           job_title                    company start_date  \\\n",
       "0             2025      Camp Counselor                 Nelson Ltd    2020-05   \n",
       "1             2021  Software Developer               Phillips PLC    2022-05   \n",
       "2             2023  Research Assistant  Banks, Thompson and James    2022-11   \n",
       "3             2022      Camp Counselor                  Walls Inc    2022-09   \n",
       "4             2023      Camp Counselor               Duarte Group    2020-08   \n",
       "\n",
       "  end_date                                             skills  \\\n",
       "0  2024-11  Scikit-learn, Pandas, Machine Learning, SQL, D...   \n",
       "1  2023-01  SQL, Scikit-learn, TensorFlow, Data Cleaning, ...   \n",
       "2  2023-05              Pandas, Python, Scikit-learn, Tableau   \n",
       "3  2024-10  Drawing, Teamwork, Time Management, Blogging, ...   \n",
       "4  2025-07  Social Media, Blogging, Time Management, Publi...   \n",
       "\n",
       "                 certifications                            extracurriculars  \\\n",
       "0                    None, None                 Hackathon Participant, None   \n",
       "1   Google Data Analytics, None  Hackathon Participant, Research Club, None   \n",
       "2                           NaN                                         NaN   \n",
       "3                           NaN                                         NaN   \n",
       "4  AWS Cloud Practitioner, None                                         NaN   \n",
       "\n",
       "  qualified  \n",
       "0       Yes  \n",
       "1       Yes  \n",
       "2       Yes  \n",
       "3        No  \n",
       "4        No  "
      ]
     },
     "execution_count": 9,
     "metadata": {},
     "output_type": "execute_result"
    }
   ],
   "source": [
    "# reading the csv into a dataframe called data\n",
    "data = pd.read_csv(\"fake_resumes.csv\")\n",
    "\n",
    "# getting the head of the dataframe\n",
    "data.head()"
   ]
  },
  {
   "cell_type": "code",
   "execution_count": 11,
   "metadata": {
    "colab": {
     "base_uri": "https://localhost:8080/"
    },
    "id": "uHouCH-hoAWw",
    "outputId": "78e88644-5247-4c00-e578-e301e442f363"
   },
   "outputs": [
    {
     "name": "stdout",
     "output_type": "stream",
     "text": [
      "qualified\n",
      "No     363\n",
      "Yes    137\n",
      "Name: count, dtype: int64\n"
     ]
    }
   ],
   "source": [
    "# printing the value counts of the qualfied variable to see class disribution\n",
    "print(data['qualified'].value_counts())"
   ]
  },
  {
   "cell_type": "code",
   "execution_count": 13,
   "metadata": {
    "colab": {
     "base_uri": "https://localhost:8080/"
    },
    "id": "bfQpoh_rfCDJ",
    "outputId": "c0da513f-2bdd-47b6-bc55-9b01d81a5900"
   },
   "outputs": [
    {
     "name": "stdout",
     "output_type": "stream",
     "text": [
      "<class 'pandas.core.frame.DataFrame'>\n",
      "RangeIndex: 500 entries, 0 to 499\n",
      "Data columns (total 17 columns):\n",
      " #   Column            Non-Null Count  Dtype  \n",
      "---  ------            --------------  -----  \n",
      " 0   full_name         500 non-null    object \n",
      " 1   email             500 non-null    object \n",
      " 2   phone             500 non-null    object \n",
      " 3   location          500 non-null    object \n",
      " 4   degree            500 non-null    object \n",
      " 5   major             500 non-null    object \n",
      " 6   university        500 non-null    object \n",
      " 7   gpa               500 non-null    float64\n",
      " 8   graduation_year   500 non-null    int64  \n",
      " 9   job_title         500 non-null    object \n",
      " 10  company           500 non-null    object \n",
      " 11  start_date        500 non-null    object \n",
      " 12  end_date          500 non-null    object \n",
      " 13  skills            500 non-null    object \n",
      " 14  certifications    223 non-null    object \n",
      " 15  extracurriculars  441 non-null    object \n",
      " 16  qualified         500 non-null    object \n",
      "dtypes: float64(1), int64(1), object(15)\n",
      "memory usage: 66.5+ KB\n",
      "None\n"
     ]
    }
   ],
   "source": [
    "# seeing the info and data types\n",
    "print(data.info())"
   ]
  },
  {
   "cell_type": "code",
   "execution_count": 15,
   "metadata": {
    "id": "ZfjWijmCgF0t"
   },
   "outputs": [],
   "source": [
    "# defining the x variable, which will include, degree, major, university, gpa, job title, skills, certifications, and extracurriculars from data\n",
    "x = data[['major', 'university', 'gpa', 'job_title', 'skills', 'certifications', 'extracurriculars']]\n",
    "\n",
    "# defining the y variable, which will include the underqualified_flag from data\n",
    "y = data[['qualified']]"
   ]
  },
  {
   "cell_type": "code",
   "execution_count": 17,
   "metadata": {
    "colab": {
     "base_uri": "https://localhost:8080/",
     "height": 293
    },
    "id": "qBAVnk2phcs1",
    "outputId": "df0d95ca-741d-4fd4-dff6-991bac095363"
   },
   "outputs": [
    {
     "data": {
      "text/html": [
       "<div>\n",
       "<style scoped>\n",
       "    .dataframe tbody tr th:only-of-type {\n",
       "        vertical-align: middle;\n",
       "    }\n",
       "\n",
       "    .dataframe tbody tr th {\n",
       "        vertical-align: top;\n",
       "    }\n",
       "\n",
       "    .dataframe thead th {\n",
       "        text-align: right;\n",
       "    }\n",
       "</style>\n",
       "<table border=\"1\" class=\"dataframe\">\n",
       "  <thead>\n",
       "    <tr style=\"text-align: right;\">\n",
       "      <th></th>\n",
       "      <th>major</th>\n",
       "      <th>university</th>\n",
       "      <th>gpa</th>\n",
       "      <th>job_title</th>\n",
       "      <th>skills</th>\n",
       "      <th>certifications</th>\n",
       "      <th>extracurriculars</th>\n",
       "    </tr>\n",
       "  </thead>\n",
       "  <tbody>\n",
       "    <tr>\n",
       "      <th>0</th>\n",
       "      <td>Mathematics</td>\n",
       "      <td>Fake University12</td>\n",
       "      <td>3.98</td>\n",
       "      <td>Camp Counselor</td>\n",
       "      <td>Scikit-learn, Pandas, Machine Learning, SQL, D...</td>\n",
       "      <td>None, None</td>\n",
       "      <td>Hackathon Participant, None</td>\n",
       "    </tr>\n",
       "    <tr>\n",
       "      <th>1</th>\n",
       "      <td>Information Systems</td>\n",
       "      <td>Old Dominion University</td>\n",
       "      <td>3.74</td>\n",
       "      <td>Software Developer</td>\n",
       "      <td>SQL, Scikit-learn, TensorFlow, Data Cleaning, ...</td>\n",
       "      <td>Google Data Analytics, None</td>\n",
       "      <td>Hackathon Participant, Research Club, None</td>\n",
       "    </tr>\n",
       "    <tr>\n",
       "      <th>2</th>\n",
       "      <td>Music</td>\n",
       "      <td>Stanford University</td>\n",
       "      <td>3.88</td>\n",
       "      <td>Research Assistant</td>\n",
       "      <td>Pandas, Python, Scikit-learn, Tableau</td>\n",
       "      <td>NaN</td>\n",
       "      <td>NaN</td>\n",
       "    </tr>\n",
       "    <tr>\n",
       "      <th>3</th>\n",
       "      <td>Statistics</td>\n",
       "      <td>Fake University1</td>\n",
       "      <td>3.84</td>\n",
       "      <td>Camp Counselor</td>\n",
       "      <td>Drawing, Teamwork, Time Management, Blogging, ...</td>\n",
       "      <td>NaN</td>\n",
       "      <td>NaN</td>\n",
       "    </tr>\n",
       "    <tr>\n",
       "      <th>4</th>\n",
       "      <td>Sports Recreation Management</td>\n",
       "      <td>Fake University12</td>\n",
       "      <td>2.22</td>\n",
       "      <td>Camp Counselor</td>\n",
       "      <td>Social Media, Blogging, Time Management, Publi...</td>\n",
       "      <td>AWS Cloud Practitioner, None</td>\n",
       "      <td>NaN</td>\n",
       "    </tr>\n",
       "  </tbody>\n",
       "</table>\n",
       "</div>"
      ],
      "text/plain": [
       "                          major               university   gpa  \\\n",
       "0                   Mathematics        Fake University12  3.98   \n",
       "1           Information Systems  Old Dominion University  3.74   \n",
       "2                         Music      Stanford University  3.88   \n",
       "3                    Statistics         Fake University1  3.84   \n",
       "4  Sports Recreation Management        Fake University12  2.22   \n",
       "\n",
       "            job_title                                             skills  \\\n",
       "0      Camp Counselor  Scikit-learn, Pandas, Machine Learning, SQL, D...   \n",
       "1  Software Developer  SQL, Scikit-learn, TensorFlow, Data Cleaning, ...   \n",
       "2  Research Assistant              Pandas, Python, Scikit-learn, Tableau   \n",
       "3      Camp Counselor  Drawing, Teamwork, Time Management, Blogging, ...   \n",
       "4      Camp Counselor  Social Media, Blogging, Time Management, Publi...   \n",
       "\n",
       "                 certifications                            extracurriculars  \n",
       "0                    None, None                 Hackathon Participant, None  \n",
       "1   Google Data Analytics, None  Hackathon Participant, Research Club, None  \n",
       "2                           NaN                                         NaN  \n",
       "3                           NaN                                         NaN  \n",
       "4  AWS Cloud Practitioner, None                                         NaN  "
      ]
     },
     "execution_count": 17,
     "metadata": {},
     "output_type": "execute_result"
    }
   ],
   "source": [
    "# viewing the x dataframe\n",
    "x.head()"
   ]
  },
  {
   "cell_type": "code",
   "execution_count": 19,
   "metadata": {
    "colab": {
     "base_uri": "https://localhost:8080/",
     "height": 206
    },
    "id": "JXzdQlR5hlhi",
    "outputId": "cc1bf2cc-a55c-4ebc-83b4-8a74b8a89d4e"
   },
   "outputs": [
    {
     "data": {
      "text/html": [
       "<div>\n",
       "<style scoped>\n",
       "    .dataframe tbody tr th:only-of-type {\n",
       "        vertical-align: middle;\n",
       "    }\n",
       "\n",
       "    .dataframe tbody tr th {\n",
       "        vertical-align: top;\n",
       "    }\n",
       "\n",
       "    .dataframe thead th {\n",
       "        text-align: right;\n",
       "    }\n",
       "</style>\n",
       "<table border=\"1\" class=\"dataframe\">\n",
       "  <thead>\n",
       "    <tr style=\"text-align: right;\">\n",
       "      <th></th>\n",
       "      <th>qualified</th>\n",
       "    </tr>\n",
       "  </thead>\n",
       "  <tbody>\n",
       "    <tr>\n",
       "      <th>0</th>\n",
       "      <td>Yes</td>\n",
       "    </tr>\n",
       "    <tr>\n",
       "      <th>1</th>\n",
       "      <td>Yes</td>\n",
       "    </tr>\n",
       "    <tr>\n",
       "      <th>2</th>\n",
       "      <td>Yes</td>\n",
       "    </tr>\n",
       "    <tr>\n",
       "      <th>3</th>\n",
       "      <td>No</td>\n",
       "    </tr>\n",
       "    <tr>\n",
       "      <th>4</th>\n",
       "      <td>No</td>\n",
       "    </tr>\n",
       "  </tbody>\n",
       "</table>\n",
       "</div>"
      ],
      "text/plain": [
       "  qualified\n",
       "0       Yes\n",
       "1       Yes\n",
       "2       Yes\n",
       "3        No\n",
       "4        No"
      ]
     },
     "execution_count": 19,
     "metadata": {},
     "output_type": "execute_result"
    }
   ],
   "source": [
    "# viewing the y dataframe\n",
    "y.head()"
   ]
  },
  {
   "cell_type": "code",
   "execution_count": 21,
   "metadata": {
    "colab": {
     "base_uri": "https://localhost:8080/"
    },
    "id": "Zs4NWR5MhoYL",
    "outputId": "90d390ff-4999-4b1e-a1bd-774c145942ea"
   },
   "outputs": [
    {
     "name": "stdout",
     "output_type": "stream",
     "text": [
      "<class 'pandas.core.frame.DataFrame'>\n",
      "RangeIndex: 500 entries, 0 to 499\n",
      "Data columns (total 7 columns):\n",
      " #   Column            Non-Null Count  Dtype  \n",
      "---  ------            --------------  -----  \n",
      " 0   major             500 non-null    object \n",
      " 1   university        500 non-null    object \n",
      " 2   gpa               500 non-null    float64\n",
      " 3   job_title         500 non-null    object \n",
      " 4   skills            500 non-null    object \n",
      " 5   certifications    223 non-null    object \n",
      " 6   extracurriculars  441 non-null    object \n",
      "dtypes: float64(1), object(6)\n",
      "memory usage: 27.5+ KB\n",
      "None\n"
     ]
    }
   ],
   "source": [
    "# seeing the x data types\n",
    "print(x.info())"
   ]
  },
  {
   "cell_type": "code",
   "execution_count": 23,
   "metadata": {
    "colab": {
     "base_uri": "https://localhost:8080/"
    },
    "id": "ufnzZV2ghvgQ",
    "outputId": "57a00ce0-0b44-450d-8314-c8741c1bee49"
   },
   "outputs": [
    {
     "name": "stdout",
     "output_type": "stream",
     "text": [
      "(500, 602)\n"
     ]
    }
   ],
   "source": [
    "# one hot encoding the categorical variables for the x dataframe\n",
    "x1hot = pd.get_dummies(x, columns=['major', 'university', 'job_title', 'skills', 'certifications', 'extracurriculars'])\n",
    "\n",
    "#printing the shape of x1hot\n",
    "print(x1hot.shape)"
   ]
  },
  {
   "cell_type": "code",
   "execution_count": 25,
   "metadata": {
    "colab": {
     "base_uri": "https://localhost:8080/"
    },
    "id": "Rm00mVFgj1rC",
    "outputId": "f8075ca6-92d8-41d8-bf71-715192b972b7"
   },
   "outputs": [
    {
     "name": "stdout",
     "output_type": "stream",
     "text": [
      "<class 'pandas.core.frame.DataFrame'>\n",
      "RangeIndex: 500 entries, 0 to 499\n",
      "Data columns (total 1 columns):\n",
      " #   Column     Non-Null Count  Dtype \n",
      "---  ------     --------------  ----- \n",
      " 0   qualified  500 non-null    object\n",
      "dtypes: object(1)\n",
      "memory usage: 4.0+ KB\n",
      "None\n"
     ]
    }
   ],
   "source": [
    "# seeing the xy data type\n",
    "print(y.info())"
   ]
  },
  {
   "cell_type": "code",
   "execution_count": 27,
   "metadata": {
    "colab": {
     "base_uri": "https://localhost:8080/"
    },
    "id": "RrfV8Wegiay3",
    "outputId": "6ee47036-4ced-4bf0-80a8-dd8a84c3bf8a"
   },
   "outputs": [
    {
     "name": "stdout",
     "output_type": "stream",
     "text": [
      "(500, 2)\n"
     ]
    }
   ],
   "source": [
    "# one hot encoding the categorical variable in the y dataframe\n",
    "y1hot = pd.get_dummies(y, columns=['qualified'])\n",
    "#printing the shape of y1hot\n",
    "print(y1hot.shape)"
   ]
  },
  {
   "cell_type": "code",
   "execution_count": 29,
   "metadata": {
    "colab": {
     "base_uri": "https://localhost:8080/",
     "height": 206
    },
    "id": "6sXEE3dyjAhL",
    "outputId": "d370dc7b-0aa1-4906-e7f5-2c8c90b26b69"
   },
   "outputs": [
    {
     "data": {
      "text/html": [
       "<div>\n",
       "<style scoped>\n",
       "    .dataframe tbody tr th:only-of-type {\n",
       "        vertical-align: middle;\n",
       "    }\n",
       "\n",
       "    .dataframe tbody tr th {\n",
       "        vertical-align: top;\n",
       "    }\n",
       "\n",
       "    .dataframe thead th {\n",
       "        text-align: right;\n",
       "    }\n",
       "</style>\n",
       "<table border=\"1\" class=\"dataframe\">\n",
       "  <thead>\n",
       "    <tr style=\"text-align: right;\">\n",
       "      <th></th>\n",
       "      <th>qualified_No</th>\n",
       "      <th>qualified_Yes</th>\n",
       "    </tr>\n",
       "  </thead>\n",
       "  <tbody>\n",
       "    <tr>\n",
       "      <th>0</th>\n",
       "      <td>False</td>\n",
       "      <td>True</td>\n",
       "    </tr>\n",
       "    <tr>\n",
       "      <th>1</th>\n",
       "      <td>False</td>\n",
       "      <td>True</td>\n",
       "    </tr>\n",
       "    <tr>\n",
       "      <th>2</th>\n",
       "      <td>False</td>\n",
       "      <td>True</td>\n",
       "    </tr>\n",
       "    <tr>\n",
       "      <th>3</th>\n",
       "      <td>True</td>\n",
       "      <td>False</td>\n",
       "    </tr>\n",
       "    <tr>\n",
       "      <th>4</th>\n",
       "      <td>True</td>\n",
       "      <td>False</td>\n",
       "    </tr>\n",
       "  </tbody>\n",
       "</table>\n",
       "</div>"
      ],
      "text/plain": [
       "   qualified_No  qualified_Yes\n",
       "0         False           True\n",
       "1         False           True\n",
       "2         False           True\n",
       "3          True          False\n",
       "4          True          False"
      ]
     },
     "execution_count": 29,
     "metadata": {},
     "output_type": "execute_result"
    }
   ],
   "source": [
    "# viewing the y1hot\n",
    "y1hot.head()"
   ]
  },
  {
   "cell_type": "code",
   "execution_count": 31,
   "metadata": {
    "id": "WZ9FX4QMkflU"
   },
   "outputs": [],
   "source": [
    "# splitting into train and test\n",
    "\n",
    "X_train, X_test, Y_train, Y_test = train_test_split(x1hot, y1hot, test_size = 0.3, random_state = 1693)"
   ]
  },
  {
   "cell_type": "code",
   "execution_count": 33,
   "metadata": {
    "colab": {
     "base_uri": "https://localhost:8080/"
    },
    "id": "RpmjvvqHkst8",
    "outputId": "1aa1de90-378a-4f5d-918f-121fc04041fe"
   },
   "outputs": [
    {
     "name": "stdout",
     "output_type": "stream",
     "text": [
      "(350, 602)\n",
      "(350, 2)\n"
     ]
    }
   ],
   "source": [
    "# getting the shape of X_train for input size\n",
    "print(X_train.shape)\n",
    "# getting the shape of Y_train for output size\n",
    "print(Y_train.shape)"
   ]
  },
  {
   "cell_type": "code",
   "execution_count": 35,
   "metadata": {
    "colab": {
     "base_uri": "https://localhost:8080/",
     "height": 304
    },
    "id": "_izX-1J7k3Eb",
    "outputId": "7036fa3e-e506-40d1-c51d-9d3ce07b037b"
   },
   "outputs": [
    {
     "name": "stderr",
     "output_type": "stream",
     "text": [
      "C:\\Users\\Sam\\anaconda3\\Lib\\site-packages\\keras\\src\\layers\\core\\dense.py:87: UserWarning: Do not pass an `input_shape`/`input_dim` argument to a layer. When using Sequential models, prefer using an `Input(shape)` object as the first layer in the model instead.\n",
      "  super().__init__(activity_regularizer=activity_regularizer, **kwargs)\n"
     ]
    },
    {
     "data": {
      "text/html": [
       "<pre style=\"white-space:pre;overflow-x:auto;line-height:normal;font-family:Menlo,'DejaVu Sans Mono',consolas,'Courier New',monospace\"><span style=\"font-weight: bold\">Model: \"sequential\"</span>\n",
       "</pre>\n"
      ],
      "text/plain": [
       "\u001b[1mModel: \"sequential\"\u001b[0m\n"
      ]
     },
     "metadata": {},
     "output_type": "display_data"
    },
    {
     "data": {
      "text/html": [
       "<pre style=\"white-space:pre;overflow-x:auto;line-height:normal;font-family:Menlo,'DejaVu Sans Mono',consolas,'Courier New',monospace\">┏━━━━━━━━━━━━━━━━━━━━━━━━━━━━━━━━━━━━━━┳━━━━━━━━━━━━━━━━━━━━━━━━━━━━━┳━━━━━━━━━━━━━━━━━┓\n",
       "┃<span style=\"font-weight: bold\"> Layer (type)                         </span>┃<span style=\"font-weight: bold\"> Output Shape                </span>┃<span style=\"font-weight: bold\">         Param # </span>┃\n",
       "┡━━━━━━━━━━━━━━━━━━━━━━━━━━━━━━━━━━━━━━╇━━━━━━━━━━━━━━━━━━━━━━━━━━━━━╇━━━━━━━━━━━━━━━━━┩\n",
       "│ dense (<span style=\"color: #0087ff; text-decoration-color: #0087ff\">Dense</span>)                        │ (<span style=\"color: #00d7ff; text-decoration-color: #00d7ff\">None</span>, <span style=\"color: #00af00; text-decoration-color: #00af00\">15</span>)                  │           <span style=\"color: #00af00; text-decoration-color: #00af00\">9,045</span> │\n",
       "├──────────────────────────────────────┼─────────────────────────────┼─────────────────┤\n",
       "│ dense_1 (<span style=\"color: #0087ff; text-decoration-color: #0087ff\">Dense</span>)                      │ (<span style=\"color: #00d7ff; text-decoration-color: #00d7ff\">None</span>, <span style=\"color: #00af00; text-decoration-color: #00af00\">8</span>)                   │             <span style=\"color: #00af00; text-decoration-color: #00af00\">128</span> │\n",
       "├──────────────────────────────────────┼─────────────────────────────┼─────────────────┤\n",
       "│ dense_2 (<span style=\"color: #0087ff; text-decoration-color: #0087ff\">Dense</span>)                      │ (<span style=\"color: #00d7ff; text-decoration-color: #00d7ff\">None</span>, <span style=\"color: #00af00; text-decoration-color: #00af00\">2</span>)                   │              <span style=\"color: #00af00; text-decoration-color: #00af00\">18</span> │\n",
       "└──────────────────────────────────────┴─────────────────────────────┴─────────────────┘\n",
       "</pre>\n"
      ],
      "text/plain": [
       "┏━━━━━━━━━━━━━━━━━━━━━━━━━━━━━━━━━━━━━━┳━━━━━━━━━━━━━━━━━━━━━━━━━━━━━┳━━━━━━━━━━━━━━━━━┓\n",
       "┃\u001b[1m \u001b[0m\u001b[1mLayer (type)                        \u001b[0m\u001b[1m \u001b[0m┃\u001b[1m \u001b[0m\u001b[1mOutput Shape               \u001b[0m\u001b[1m \u001b[0m┃\u001b[1m \u001b[0m\u001b[1m        Param #\u001b[0m\u001b[1m \u001b[0m┃\n",
       "┡━━━━━━━━━━━━━━━━━━━━━━━━━━━━━━━━━━━━━━╇━━━━━━━━━━━━━━━━━━━━━━━━━━━━━╇━━━━━━━━━━━━━━━━━┩\n",
       "│ dense (\u001b[38;5;33mDense\u001b[0m)                        │ (\u001b[38;5;45mNone\u001b[0m, \u001b[38;5;34m15\u001b[0m)                  │           \u001b[38;5;34m9,045\u001b[0m │\n",
       "├──────────────────────────────────────┼─────────────────────────────┼─────────────────┤\n",
       "│ dense_1 (\u001b[38;5;33mDense\u001b[0m)                      │ (\u001b[38;5;45mNone\u001b[0m, \u001b[38;5;34m8\u001b[0m)                   │             \u001b[38;5;34m128\u001b[0m │\n",
       "├──────────────────────────────────────┼─────────────────────────────┼─────────────────┤\n",
       "│ dense_2 (\u001b[38;5;33mDense\u001b[0m)                      │ (\u001b[38;5;45mNone\u001b[0m, \u001b[38;5;34m2\u001b[0m)                   │              \u001b[38;5;34m18\u001b[0m │\n",
       "└──────────────────────────────────────┴─────────────────────────────┴─────────────────┘\n"
      ]
     },
     "metadata": {},
     "output_type": "display_data"
    },
    {
     "data": {
      "text/html": [
       "<pre style=\"white-space:pre;overflow-x:auto;line-height:normal;font-family:Menlo,'DejaVu Sans Mono',consolas,'Courier New',monospace\"><span style=\"font-weight: bold\"> Total params: </span><span style=\"color: #00af00; text-decoration-color: #00af00\">9,191</span> (35.90 KB)\n",
       "</pre>\n"
      ],
      "text/plain": [
       "\u001b[1m Total params: \u001b[0m\u001b[38;5;34m9,191\u001b[0m (35.90 KB)\n"
      ]
     },
     "metadata": {},
     "output_type": "display_data"
    },
    {
     "data": {
      "text/html": [
       "<pre style=\"white-space:pre;overflow-x:auto;line-height:normal;font-family:Menlo,'DejaVu Sans Mono',consolas,'Courier New',monospace\"><span style=\"font-weight: bold\"> Trainable params: </span><span style=\"color: #00af00; text-decoration-color: #00af00\">9,191</span> (35.90 KB)\n",
       "</pre>\n"
      ],
      "text/plain": [
       "\u001b[1m Trainable params: \u001b[0m\u001b[38;5;34m9,191\u001b[0m (35.90 KB)\n"
      ]
     },
     "metadata": {},
     "output_type": "display_data"
    },
    {
     "data": {
      "text/html": [
       "<pre style=\"white-space:pre;overflow-x:auto;line-height:normal;font-family:Menlo,'DejaVu Sans Mono',consolas,'Courier New',monospace\"><span style=\"font-weight: bold\"> Non-trainable params: </span><span style=\"color: #00af00; text-decoration-color: #00af00\">0</span> (0.00 B)\n",
       "</pre>\n"
      ],
      "text/plain": [
       "\u001b[1m Non-trainable params: \u001b[0m\u001b[38;5;34m0\u001b[0m (0.00 B)\n"
      ]
     },
     "metadata": {},
     "output_type": "display_data"
    },
    {
     "name": "stdout",
     "output_type": "stream",
     "text": [
      "None\n"
     ]
    }
   ],
   "source": [
    "# creating the model\n",
    "model = Sequential()\n",
    "\n",
    "# adding a dense input layer with 15 units, Y_train[1] as the input dim, and relu activation\n",
    "model.add(Dense(units = 15,\n",
    "                input_dim = X_train.shape[1],\n",
    "                activation = 'relu'))\n",
    "\n",
    "# adding a dese layer with 8 units, and relu activation\n",
    "model.add(Dense(units = 8,\n",
    "                activation = 'relu'))\n",
    "\n",
    "# adding a dense output layer with 2 units, and softmax activation\n",
    "model.add(Dense(units = 2,\n",
    "                activation = 'softmax'))\n",
    "\n",
    "# printing the model summary\n",
    "print(model.summary())"
   ]
  },
  {
   "cell_type": "code",
   "execution_count": 37,
   "metadata": {
    "id": "0AljPI8ulv1N"
   },
   "outputs": [],
   "source": [
    "# compiling the model\n",
    "model.compile(loss = 'BinaryCrossentropy',\n",
    "              optimizer = 'adam',\n",
    "              metrics = ['accuracy'])"
   ]
  },
  {
   "cell_type": "code",
   "execution_count": 39,
   "metadata": {
    "colab": {
     "base_uri": "https://localhost:8080/"
    },
    "id": "yVQdjog0mEeH",
    "outputId": "cbae2f9f-5526-422f-8ed1-37d9559aff24"
   },
   "outputs": [
    {
     "data": {
      "text/plain": [
       "<keras.src.callbacks.history.History at 0x1f6233abb90>"
      ]
     },
     "execution_count": 39,
     "metadata": {},
     "output_type": "execute_result"
    }
   ],
   "source": [
    "# getting estimates\n",
    "model.fit(X_train, Y_train, epochs = 100, verbose = 0)"
   ]
  },
  {
   "cell_type": "code",
   "execution_count": 41,
   "metadata": {
    "colab": {
     "base_uri": "https://localhost:8080/"
    },
    "id": "U0AQ726_maLr",
    "outputId": "e462f1fa-7f32-43a5-959f-62318e4e3e7e"
   },
   "outputs": [
    {
     "name": "stdout",
     "output_type": "stream",
     "text": [
      "\u001b[1m5/5\u001b[0m \u001b[32m━━━━━━━━━━━━━━━━━━━━\u001b[0m\u001b[37m\u001b[0m \u001b[1m0s\u001b[0m 5ms/step - accuracy: 0.8785 - loss: 0.2680  \n"
     ]
    },
    {
     "data": {
      "text/plain": [
       "[0.24643567204475403, 0.8933333158493042]"
      ]
     },
     "execution_count": 41,
     "metadata": {},
     "output_type": "execute_result"
    }
   ],
   "source": [
    "# evaluating the model accuracy\n",
    "model.evaluate(X_test, Y_test)"
   ]
  }
 ],
 "metadata": {
  "colab": {
   "provenance": []
  },
  "kernelspec": {
   "display_name": "Python [conda env:base] *",
   "language": "python",
   "name": "conda-base-py"
  },
  "language_info": {
   "codemirror_mode": {
    "name": "ipython",
    "version": 3
   },
   "file_extension": ".py",
   "mimetype": "text/x-python",
   "name": "python",
   "nbconvert_exporter": "python",
   "pygments_lexer": "ipython3",
   "version": "3.12.7"
  }
 },
 "nbformat": 4,
 "nbformat_minor": 4
}
